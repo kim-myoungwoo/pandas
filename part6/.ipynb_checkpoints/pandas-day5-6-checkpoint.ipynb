{
 "cells": [
  {
   "cell_type": "code",
   "execution_count": 5,
   "id": "e4961ea8",
   "metadata": {},
   "outputs": [],
   "source": [
    "import pandas as pd\n",
    "import matplotlib as plt\n",
    "from matplotlib import font_manager, rc\n",
    "\n",
    "plt.rc('font', family='Malgun Gothic')"
   ]
  },
  {
   "cell_type": "code",
   "execution_count": 6,
   "id": "b9599bfa",
   "metadata": {},
   "outputs": [],
   "source": [
    "url='https://sports.news.naver.com/kbaseball/record/index?category=kbo&year='"
   ]
  },
  {
   "cell_type": "code",
   "execution_count": 7,
   "id": "75bd9874",
   "metadata": {},
   "outputs": [],
   "source": [
    "df=pd.DataFrame([])"
   ]
  },
  {
   "cell_type": "code",
   "execution_count": 9,
   "id": "81e876bb",
   "metadata": {},
   "outputs": [],
   "source": [
    "df1=pd.read_html(url)[0]"
   ]
  },
  {
   "cell_type": "code",
   "execution_count": 10,
   "id": "61cbdbf2",
   "metadata": {},
   "outputs": [
    {
     "data": {
      "text/html": [
       "<div>\n",
       "<style scoped>\n",
       "    .dataframe tbody tr th:only-of-type {\n",
       "        vertical-align: middle;\n",
       "    }\n",
       "\n",
       "    .dataframe tbody tr th {\n",
       "        vertical-align: top;\n",
       "    }\n",
       "\n",
       "    .dataframe thead th {\n",
       "        text-align: right;\n",
       "    }\n",
       "</style>\n",
       "<table border=\"1\" class=\"dataframe\">\n",
       "  <thead>\n",
       "    <tr style=\"text-align: right;\">\n",
       "      <th></th>\n",
       "      <th>순위</th>\n",
       "      <th>팀</th>\n",
       "      <th>경기수</th>\n",
       "      <th>승</th>\n",
       "      <th>패</th>\n",
       "      <th>무</th>\n",
       "      <th>승률</th>\n",
       "      <th>게임차</th>\n",
       "      <th>연속</th>\n",
       "      <th>출루율</th>\n",
       "      <th>장타율</th>\n",
       "      <th>최근 10경기</th>\n",
       "    </tr>\n",
       "  </thead>\n",
       "  <tbody>\n",
       "    <tr>\n",
       "      <th>0</th>\n",
       "      <td>1</td>\n",
       "      <td>SSG</td>\n",
       "      <td>144</td>\n",
       "      <td>88</td>\n",
       "      <td>52</td>\n",
       "      <td>4</td>\n",
       "      <td>0.629</td>\n",
       "      <td>0.0</td>\n",
       "      <td>4패</td>\n",
       "      <td>0.336</td>\n",
       "      <td>0.396</td>\n",
       "      <td>4승-6패-0무</td>\n",
       "    </tr>\n",
       "    <tr>\n",
       "      <th>1</th>\n",
       "      <td>2</td>\n",
       "      <td>키움</td>\n",
       "      <td>144</td>\n",
       "      <td>80</td>\n",
       "      <td>62</td>\n",
       "      <td>2</td>\n",
       "      <td>0.563</td>\n",
       "      <td>9.0</td>\n",
       "      <td>1승</td>\n",
       "      <td>0.333</td>\n",
       "      <td>0.364</td>\n",
       "      <td>5승-5패-0무</td>\n",
       "    </tr>\n",
       "    <tr>\n",
       "      <th>2</th>\n",
       "      <td>3</td>\n",
       "      <td>LG</td>\n",
       "      <td>144</td>\n",
       "      <td>87</td>\n",
       "      <td>55</td>\n",
       "      <td>2</td>\n",
       "      <td>0.613</td>\n",
       "      <td>2.0</td>\n",
       "      <td>1승</td>\n",
       "      <td>0.346</td>\n",
       "      <td>0.396</td>\n",
       "      <td>4승-6패-0무</td>\n",
       "    </tr>\n",
       "    <tr>\n",
       "      <th>3</th>\n",
       "      <td>4</td>\n",
       "      <td>KT</td>\n",
       "      <td>144</td>\n",
       "      <td>80</td>\n",
       "      <td>62</td>\n",
       "      <td>2</td>\n",
       "      <td>0.563</td>\n",
       "      <td>9.0</td>\n",
       "      <td>1패</td>\n",
       "      <td>0.330</td>\n",
       "      <td>0.375</td>\n",
       "      <td>7승-3패-0무</td>\n",
       "    </tr>\n",
       "    <tr>\n",
       "      <th>4</th>\n",
       "      <td>5</td>\n",
       "      <td>KIA</td>\n",
       "      <td>144</td>\n",
       "      <td>70</td>\n",
       "      <td>73</td>\n",
       "      <td>1</td>\n",
       "      <td>0.490</td>\n",
       "      <td>19.5</td>\n",
       "      <td>1패</td>\n",
       "      <td>0.349</td>\n",
       "      <td>0.398</td>\n",
       "      <td>7승-3패-0무</td>\n",
       "    </tr>\n",
       "    <tr>\n",
       "      <th>5</th>\n",
       "      <td>6</td>\n",
       "      <td>NC</td>\n",
       "      <td>144</td>\n",
       "      <td>67</td>\n",
       "      <td>74</td>\n",
       "      <td>3</td>\n",
       "      <td>0.475</td>\n",
       "      <td>21.5</td>\n",
       "      <td>1패</td>\n",
       "      <td>0.334</td>\n",
       "      <td>0.375</td>\n",
       "      <td>6승-4패-0무</td>\n",
       "    </tr>\n",
       "    <tr>\n",
       "      <th>6</th>\n",
       "      <td>7</td>\n",
       "      <td>삼성</td>\n",
       "      <td>144</td>\n",
       "      <td>66</td>\n",
       "      <td>76</td>\n",
       "      <td>2</td>\n",
       "      <td>0.465</td>\n",
       "      <td>23.0</td>\n",
       "      <td>2승</td>\n",
       "      <td>0.334</td>\n",
       "      <td>0.387</td>\n",
       "      <td>6승-4패-0무</td>\n",
       "    </tr>\n",
       "    <tr>\n",
       "      <th>7</th>\n",
       "      <td>8</td>\n",
       "      <td>롯데</td>\n",
       "      <td>144</td>\n",
       "      <td>64</td>\n",
       "      <td>76</td>\n",
       "      <td>4</td>\n",
       "      <td>0.457</td>\n",
       "      <td>24.0</td>\n",
       "      <td>1승</td>\n",
       "      <td>0.328</td>\n",
       "      <td>0.383</td>\n",
       "      <td>5승-5패-0무</td>\n",
       "    </tr>\n",
       "    <tr>\n",
       "      <th>8</th>\n",
       "      <td>9</td>\n",
       "      <td>두산</td>\n",
       "      <td>144</td>\n",
       "      <td>60</td>\n",
       "      <td>82</td>\n",
       "      <td>2</td>\n",
       "      <td>0.423</td>\n",
       "      <td>29.0</td>\n",
       "      <td>2패</td>\n",
       "      <td>0.324</td>\n",
       "      <td>0.365</td>\n",
       "      <td>4승-6패-0무</td>\n",
       "    </tr>\n",
       "    <tr>\n",
       "      <th>9</th>\n",
       "      <td>10</td>\n",
       "      <td>한화</td>\n",
       "      <td>144</td>\n",
       "      <td>46</td>\n",
       "      <td>96</td>\n",
       "      <td>2</td>\n",
       "      <td>0.324</td>\n",
       "      <td>43.0</td>\n",
       "      <td>1패</td>\n",
       "      <td>0.319</td>\n",
       "      <td>0.352</td>\n",
       "      <td>3승-7패-0무</td>\n",
       "    </tr>\n",
       "  </tbody>\n",
       "</table>\n",
       "</div>"
      ],
      "text/plain": [
       "   순위    팀  경기수   승   패  무     승률   게임차  연속    출루율    장타율   최근 10경기\n",
       "0   1  SSG  144  88  52  4  0.629   0.0  4패  0.336  0.396  4승-6패-0무\n",
       "1   2   키움  144  80  62  2  0.563   9.0  1승  0.333  0.364  5승-5패-0무\n",
       "2   3   LG  144  87  55  2  0.613   2.0  1승  0.346  0.396  4승-6패-0무\n",
       "3   4   KT  144  80  62  2  0.563   9.0  1패  0.330  0.375  7승-3패-0무\n",
       "4   5  KIA  144  70  73  1  0.490  19.5  1패  0.349  0.398  7승-3패-0무\n",
       "5   6   NC  144  67  74  3  0.475  21.5  1패  0.334  0.375  6승-4패-0무\n",
       "6   7   삼성  144  66  76  2  0.465  23.0  2승  0.334  0.387  6승-4패-0무\n",
       "7   8   롯데  144  64  76  4  0.457  24.0  1승  0.328  0.383  5승-5패-0무\n",
       "8   9   두산  144  60  82  2  0.423  29.0  2패  0.324  0.365  4승-6패-0무\n",
       "9  10   한화  144  46  96  2  0.324  43.0  1패  0.319  0.352  3승-7패-0무"
      ]
     },
     "execution_count": 10,
     "metadata": {},
     "output_type": "execute_result"
    }
   ],
   "source": [
    "df1"
   ]
  },
  {
   "cell_type": "code",
   "execution_count": null,
   "id": "b6f84086",
   "metadata": {},
   "outputs": [],
   "source": [
    "for i in range(2012,2022+1):\n",
    "    df1= pd.read_html(url+str(i))[0]\n",
    "    df1['연도']=str(i)\n",
    "    df=pd.concat([df,df1])"
   ]
  },
  {
   "cell_type": "code",
   "execution_count": null,
   "id": "37ea2f37",
   "metadata": {},
   "outputs": [],
   "source": [
    "df.head(30)"
   ]
  },
  {
   "cell_type": "code",
   "execution_count": null,
   "id": "2283bacc",
   "metadata": {},
   "outputs": [],
   "source": [
    "df=df.repalce({'kt':'KT','SK':'SSG','넥센':\"키움\"})"
   ]
  },
  {
   "cell_type": "markdown",
   "id": "5fc0b252",
   "metadata": {},
   "source": [
    "pivot(): 두개의 열을 기준으로 행과 열을 재구성\n",
    "    \n",
    "pivot_table(): 교재에서 배운 함수, 데이터 집계 함수를 사용"
   ]
  },
  {
   "cell_type": "code",
   "execution_count": null,
   "id": "0a4e1d4d",
   "metadata": {},
   "outputs": [],
   "source": [
    "df_pivot1= df.pivot(index=\"연도\",columns=\"팀\", values='순위')"
   ]
  },
  {
   "cell_type": "code",
   "execution_count": null,
   "id": "e9bff2d7",
   "metadata": {},
   "outputs": [],
   "source": [
    "df_pivot1"
   ]
  },
  {
   "cell_type": "code",
   "execution_count": null,
   "id": "c3ef8883",
   "metadata": {},
   "outputs": [],
   "source": [
    "df_pivot2=df.pivot(index=\"연도\",columns=\"순위\",values='팀')"
   ]
  },
  {
   "cell_type": "code",
   "execution_count": null,
   "id": "46458e00",
   "metadata": {},
   "outputs": [],
   "source": [
    "df_pivot2"
   ]
  }
 ],
 "metadata": {
  "kernelspec": {
   "display_name": "Python 3 (ipykernel)",
   "language": "python",
   "name": "python3"
  },
  "language_info": {
   "codemirror_mode": {
    "name": "ipython",
    "version": 3
   },
   "file_extension": ".py",
   "mimetype": "text/x-python",
   "name": "python",
   "nbconvert_exporter": "python",
   "pygments_lexer": "ipython3",
   "version": "3.9.13"
  }
 },
 "nbformat": 4,
 "nbformat_minor": 5
}
